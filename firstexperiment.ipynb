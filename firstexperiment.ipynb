{
 "cells": [
  {
   "cell_type": "markdown",
   "metadata": {},
   "source": [
    "<div style=\"text-align: right\"><a href=http://localhost:8002/tree/ToxicClassifier/firstexperiment.ipynb?token=c91ec612520e580f55e07e250ad709ddee7d27618a628067 target=\"_blank\">Edit</a></div>"
   ]
  }
 ],
 "metadata": {},
 "nbformat": 4,
 "nbformat_minor": 0
}
